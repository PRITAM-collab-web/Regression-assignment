{
  "nbformat": 4,
  "nbformat_minor": 0,
  "metadata": {
    "colab": {
      "provenance": []
    },
    "kernelspec": {
      "name": "python3",
      "display_name": "Python 3"
    },
    "language_info": {
      "name": "python"
    }
  },
  "cells": [
    {
      "cell_type": "markdown",
      "source": [
        "# Regression & Its Evaluation | Assignment"
      ],
      "metadata": {
        "id": "Ep7pGYSDGd3l"
      }
    },
    {
      "cell_type": "markdown",
      "source": [
        "Question 1:  What is Simple Linear Regression?"
      ],
      "metadata": {
        "id": "yq0Wjqu7GiXX"
      }
    },
    {
      "cell_type": "markdown",
      "source": [
        "--> Simple Linear Regression (SLR) is a statistical method that models the linear relationship between two quantitative variables, one independent (predictor) and one dependent (response), by fitting a straight line to the data"
      ],
      "metadata": {
        "id": "U7f8zscPGpD4"
      }
    },
    {
      "cell_type": "markdown",
      "source": [
        "Question 2: What are the key assumptions of Simple Linear Regression?"
      ],
      "metadata": {
        "id": "nPqAGXpmG0-A"
      }
    },
    {
      "cell_type": "markdown",
      "source": [
        "-->The key assumptions for simple linear regression are: Linearity, a linear relationship between variables; Independence, observations are not correlated; Homoscedasticity, errors have constant variance; Normality, errors are normally distributed; and No perfect collinearity, the independent variable is not a constant"
      ],
      "metadata": {
        "id": "r-dsk2zVG7_5"
      }
    },
    {
      "cell_type": "markdown",
      "source": [
        "Question 3: What is heteroscedasticity, and why is it important to address in regression\n",
        "models?"
      ],
      "metadata": {
        "id": "-9yRUUoTHSGJ"
      }
    },
    {
      "cell_type": "markdown",
      "source": [
        "-->Heteroscedasticity is a statistical phenomenon in regression models where the variance of the residuals (errors) is not constant across the range of the independent variables, leading to a fan or cone shape in a residual plot. It is important to address because while it doesn't cause bias in coefficient estimates, it undermines the reliability of standard errors, resulting in invalid hypothesis tests, inaccurate confidence intervals, and generally less precise coefficient estimates, making it difficult to trust the model's inferences"
      ],
      "metadata": {
        "id": "joWM4yqTHWnd"
      }
    },
    {
      "cell_type": "markdown",
      "source": [
        "Question 4: What is Multiple Linear Regression?"
      ],
      "metadata": {
        "id": "CPmG5JbQH0kZ"
      }
    },
    {
      "cell_type": "markdown",
      "source": [
        "-->Multiple Linear Regression (MLR) is a statistical technique used to predict the value of a single dependent variable by modeling the linear relationship it has with two or more independent variables, or predictors"
      ],
      "metadata": {
        "id": "t-d86V8eH3Zm"
      }
    },
    {
      "cell_type": "markdown",
      "source": [
        "Question 5: What is polynomial regression, and how does it differ from linear\n",
        "regression?"
      ],
      "metadata": {
        "id": "PRJrIG3uIEAc"
      }
    },
    {
      "cell_type": "markdown",
      "source": [
        "-->The key difference is that linear regression assumes a straight-line relationship, while polynomial regression uses an nth-degree polynomial equation to capture curved patterns in the data"
      ],
      "metadata": {
        "id": "662_Kr9XIHFf"
      }
    },
    {
      "cell_type": "markdown",
      "source": [
        "Question 6:  Implement a Python program to fit a Simple Linear Regression model to\n",
        "the following sample data:\n",
        "● X = [1, 2, 3, 4, 5]\n",
        "● Y = [2.1, 4.3, 6.1, 7.9, 10.2]"
      ],
      "metadata": {
        "id": "AsAR2fHnIY6c"
      }
    },
    {
      "cell_type": "code",
      "source": [
        "import numpy as np\n",
        "\n",
        "# Sample data\n",
        "X = [1, 2, 3, 4, 5]\n",
        "Y = [2.1, 4.3, 6.1, 7.9, 10.2]\n",
        "\n",
        "# Convert lists to numpy arrays for easier calculations\n",
        "X = np.array(X)\n",
        "Y = np.array(Y)\n",
        "\n",
        "# Calculate the mean of X and Y\n",
        "mean_X = np.mean(X)\n",
        "mean_Y = np.mean(Y)\n",
        "\n",
        "# Number of data points\n",
        "n = len(X)\n",
        "\n",
        "# Calculate the slope (b1) and the y-intercept (b0)\n",
        "numerator = np.sum((X - mean_X) * (Y - mean_Y))\n",
        "denominator = np.sum((X - mean_X)**2)\n",
        "\n",
        "b1 = numerator / denominator\n",
        "b0 = mean_Y - b1 * mean_X\n",
        "\n",
        "# Print the results\n",
        "print(f\"The calculated slope (b1) is: {b1:.4f}\")\n",
        "print(f\"The calculated y-intercept (b0) is: {b0:.4f}\")\n",
        "print(f\"The simple linear regression equation is: y = {b0:.4f} + {b1:.4f}x\")\n"
      ],
      "metadata": {
        "colab": {
          "base_uri": "https://localhost:8080/"
        },
        "id": "oMsg1yOJIdcz",
        "outputId": "aa3ea9e3-bffd-4ede-c81c-8dcd8d3d8f72"
      },
      "execution_count": 1,
      "outputs": [
        {
          "output_type": "stream",
          "name": "stdout",
          "text": [
            "The calculated slope (b1) is: 1.9800\n",
            "The calculated y-intercept (b0) is: 0.1800\n",
            "The simple linear regression equation is: y = 0.1800 + 1.9800x\n"
          ]
        }
      ]
    },
    {
      "cell_type": "markdown",
      "source": [
        "Question 7: Fit a Multiple Linear Regression model on this sample data:\n",
        "● Area = [1200, 1500, 1800, 2000]\n",
        "● Rooms = [2, 3, 3, 4]\n",
        "● Price = [250000, 300000, 320000, 370000].\n",
        "Check for multicollinearity using VIF and report the results."
      ],
      "metadata": {
        "id": "YHubn0JRJkiN"
      }
    },
    {
      "cell_type": "code",
      "source": [
        "import pandas as pd\n",
        "import statsmodels.api as sm\n",
        "from statsmodels.stats.outliers_influence import variance_inflation_factor\n",
        "\n",
        "# Sample data (replace with your actual data)\n",
        "data = {\n",
        "    'Area' : [1200, 1500, 1800, 2000],\n",
        "    'Rooms': [2, 3, 3, 4],\n",
        "    'Price': [250000, 300000, 320000, 370000]\n",
        "}\n",
        "df = pd.DataFrame(data)\n",
        "\n",
        "# Define independent variables (X) and dependent variable (y)\n",
        "X = df[['Area', 'Rooms']]\n",
        "y = df['Price']\n",
        "\n",
        "# Add a constant to the independent variables for the intercept term\n",
        "X = sm.add_constant(X)\n",
        "\n",
        "# Fit the Multiple Linear Regression model\n",
        "model = sm.OLS(y, X).fit()\n",
        "\n",
        "# Print the model summary\n",
        "print(\"Multiple Linear Regression Model Summary:\")\n",
        "print(model.summary())\n",
        "\n",
        "# Calculate VIF for multicollinearity check\n",
        "def calculate_vif(df_features):\n",
        "    vif_data = pd.DataFrame()\n",
        "    vif_data[\"feature\"] = df_features.columns\n",
        "    vif_data[\"VIF\"] = [variance_inflation_factor(df_features.values, i) for i in range(df_features.shape[1])]\n",
        "    return vif_data\n",
        "\n",
        "# Calculate VIF for the independent variables (excluding the constant)\n",
        "vif_results = calculate_vif(df[['Area', 'Rooms']])\n",
        "\n",
        "print(\"\\nVariance Inflation Factor (VIF) Results:\")\n",
        "print(vif_results)"
      ],
      "metadata": {
        "colab": {
          "base_uri": "https://localhost:8080/"
        },
        "id": "daFoAaW6Joga",
        "outputId": "3c926f66-b2c3-4fa3-b8af-74ca24c7ffc0"
      },
      "execution_count": 2,
      "outputs": [
        {
          "output_type": "stream",
          "name": "stdout",
          "text": [
            "Multiple Linear Regression Model Summary:\n",
            "                            OLS Regression Results                            \n",
            "==============================================================================\n",
            "Dep. Variable:                  Price   R-squared:                       0.999\n",
            "Model:                            OLS   Adj. R-squared:                  0.996\n",
            "Method:                 Least Squares   F-statistic:                     351.0\n",
            "Date:                Wed, 10 Sep 2025   Prob (F-statistic):             0.0377\n",
            "Time:                        05:51:57   Log-Likelihood:                -35.242\n",
            "No. Observations:                   4   AIC:                             76.48\n",
            "Df Residuals:                       1   BIC:                             74.64\n",
            "Df Model:                           2                                         \n",
            "Covariance Type:            nonrobust                                         \n",
            "==============================================================================\n",
            "                 coef    std err          t      P>|t|      [0.025      0.975]\n",
            "------------------------------------------------------------------------------\n",
            "const       1.032e+05   9488.293     10.872      0.058   -1.74e+04    2.24e+05\n",
            "Area          63.1579     14.886      4.243      0.147    -125.992     252.308\n",
            "Rooms       3.474e+04   6381.240      5.444      0.116   -4.63e+04    1.16e+05\n",
            "==============================================================================\n",
            "Omnibus:                          nan   Durbin-Watson:                   2.053\n",
            "Prob(Omnibus):                    nan   Jarque-Bera (JB):                0.554\n",
            "Skew:                          -0.154   Prob(JB):                        0.758\n",
            "Kurtosis:                       1.202   Cond. No.                     1.01e+04\n",
            "==============================================================================\n",
            "\n",
            "Notes:\n",
            "[1] Standard Errors assume that the covariance matrix of the errors is correctly specified.\n",
            "[2] The condition number is large, 1.01e+04. This might indicate that there are\n",
            "strong multicollinearity or other numerical problems.\n",
            "\n",
            "Variance Inflation Factor (VIF) Results:\n",
            "  feature         VIF\n",
            "0    Area  127.796923\n",
            "1   Rooms  127.796923\n"
          ]
        },
        {
          "output_type": "stream",
          "name": "stderr",
          "text": [
            "/usr/local/lib/python3.12/dist-packages/statsmodels/stats/stattools.py:74: ValueWarning: omni_normtest is not valid with less than 8 observations; 4 samples were given.\n",
            "  warn(\"omni_normtest is not valid with less than 8 observations; %i \"\n"
          ]
        }
      ]
    },
    {
      "cell_type": "markdown",
      "source": [
        "Question 8:  Implement polynomial regression on the following data:\n",
        "● X = [1, 2, 3, 4, 5]\n",
        "● Y = [2.2, 4.8, 7.5, 11.2, 14.7]\n",
        "Fit a 2nd-degree polynomial and plot the resulting curve."
      ],
      "metadata": {
        "id": "I9UBuUCOMNbt"
      }
    },
    {
      "cell_type": "code",
      "source": [
        "import numpy as np\n",
        "import matplotlib.pyplot as plt\n",
        "from sklearn.linear_model import LinearRegression\n",
        "from sklearn.preprocessing import PolynomialFeatures\n",
        "\n",
        "# 1. Define the data\n",
        "X = np.array([1, 2, 3, 4, 5]).reshape(-1, 1) # Reshape X for scikit-learn\n",
        "Y = np.array([2.2, 4.8, 7.5, 11.2, 14.7])\n",
        "\n",
        "# 2. Transform the input data to include polynomial features\n",
        "# Choose the degree of the polynomial. For y = x^2 + 1, degree=2 is appropriate.\n",
        "degree = 2\n",
        "poly = PolynomialFeatures(degree=degree, include_bias=False)\n",
        "X_poly = poly.fit_transform(X)\n",
        "\n",
        "# 3. Fit a Linear Regression model to the transformed data\n",
        "model = LinearRegression()\n",
        "model.fit(X_poly, y)\n",
        "\n",
        "# 4. Make predictions using the fitted model\n",
        "y_pred = model.predict(X_poly)\n",
        "\n",
        "# 5. Visualize the results\n",
        "plt.scatter(X, y, color='blue', label='Original Data')\n",
        "plt.plot(X, y_pred, color='red', linewidth=2, label=f'Polynomial Fit (Degree {degree})')\n",
        "plt.title('Polynomial Regression')\n",
        "plt.xlabel('X')\n",
        "plt.ylabel('y')\n",
        "plt.legend()\n",
        "plt.grid(True)\n",
        "plt.show()\n",
        "\n",
        "# Print the coefficients of the polynomial model\n",
        "print(f\"Coefficients: {model.coef_}\")\n",
        "print(f\"Intercept: {model.intercept_}\")"
      ],
      "metadata": {
        "colab": {
          "base_uri": "https://localhost:8080/",
          "height": 507
        },
        "id": "brjkvKuxMQoT",
        "outputId": "c53b4ac4-eff8-4410-d888-0cf957c9cda1"
      },
      "execution_count": 5,
      "outputs": [
        {
          "output_type": "display_data",
          "data": {
            "text/plain": [
              "<Figure size 640x480 with 1 Axes>"
            ],
            "image/png": "[encoded data removed]"
          },
          "metadata": {}
        },
        {
          "output_type": "stream",
          "name": "stdout",
          "text": [
            "Coefficients: [-2.27004598e-15  1.00000000e+00]\n",
            "Intercept: 1.0000000000000018\n"
          ]
        }
      ]
    },
    {
      "cell_type": "markdown",
      "source": [
        "Question 9: Create a residuals plot for a regression model trained on this data:\n",
        "● X = [10, 20, 30, 40, 50]\n",
        "● Y = [15, 35, 40, 50, 65]\n",
        "Assess heteroscedasticity by examining the spread of residuals."
      ],
      "metadata": {
        "id": "FRcxj4puN83n"
      }
    },
    {
      "cell_type": "code",
      "source": [
        "import numpy as np\n",
        "import matplotlib.pyplot as plt\n",
        "from sklearn.linear_model import LinearRegression\n",
        "\n",
        "# Given data\n",
        "X = np.array([10, 20, 30, 40, 50]).reshape(-1, 1)\n",
        "Y = np.array([15, 35, 40, 50, 65])\n",
        "\n",
        "# Train the linear regression model\n",
        "model = LinearRegression()\n",
        "model.fit(X, Y)\n",
        "\n",
        "# Predict Y values\n",
        "Y_pred = model.predict(X)\n",
        "# Calculate residuals\n",
        "residuals = Y - Y_pred\n",
        "# Create the residuals plot\n",
        "plt.figure(figsize=(8, 6))\n",
        "plt.scatter(Y_pred, residuals, color='blue')\n",
        "plt.title('Residuals Plot')\n",
        "plt.xlabel('Predicted Values')\n",
        "plt.ylabel('Residuals')\n",
        "plt.axhline(y=0, color='red', linestyle='--')\n",
        "plt.show()\n",
        "print(f'residuals :{residuals}')"
      ],
      "metadata": {
        "colab": {
          "base_uri": "https://localhost:8080/",
          "height": 521
        },
        "id": "amPO3jIsNJVR",
        "outputId": "44ed8f53-a422-4215-c638-a0927a9ea76c"
      },
      "execution_count": 6,
      "outputs": [
        {
          "output_type": "display_data",
          "data": {
            "text/plain": [
              "<Figure size 800x600 with 1 Axes>"
            ],
            "image/png": "[encoded data removed]"
          },
          "metadata": {}
        },
        {
          "output_type": "stream",
          "name": "stdout",
          "text": [
            "residuals :[-3.   5.5 -1.  -2.5  1. ]\n"
          ]
        }
      ]
    },
    {
      "cell_type": "markdown",
      "source": [
        "Question 10: Imagine you are a data scientist working for a real estate company. You\n",
        "need to predict house prices using features like area, number of rooms, and location.\n",
        "However, you detect heteroscedasticity and multicollinearity in your regression\n",
        "model. Explain the steps you would take to address these issues and ensure a robust\n",
        "model."
      ],
      "metadata": {
        "id": "gmOcfNyqO-ev"
      }
    },
    {
      "cell_type": "markdown",
      "source": [],
      "metadata": {
        "id": "puJbrcTKPIRG"
      }
    }
  ]
}